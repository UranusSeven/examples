{
 "cells": [
  {
   "cell_type": "markdown",
   "metadata": {
    "pycharm": {
     "name": "#%% md\n"
    }
   },
   "source": [
    "# Exploratory analysis using Xorbits over NYC taxi dataset\n",
    "Xorbits is a powerful tool for exploring and analyzing large datasets. One of the classic\n",
    "datasets for demonstrating the capabilities of Xorbits is the NYC taxi dataset, which\n",
    "contains records of taxi rides in the city from 2009 to 2022. In this blog, we will\n",
    "explore how to use Xorbits to do some initial exploration of the NYC taxi dataset and get\n",
    "a sense of what kind of insights we might be able to gain from the data.\n",
    "\n",
    "## Software versions\n",
    "- Xorbits==0.1.0\n",
    "- plotly==5.11.0"
   ]
  },
  {
   "cell_type": "code",
   "execution_count": null,
   "metadata": {
    "collapsed": false,
    "jupyter": {
     "outputs_hidden": false
    },
    "pycharm": {
     "name": "#%%\n"
    }
   },
   "outputs": [],
   "source": [
    "# Install dependencies\n",
    "%pip install xorbits==0.1.0 plotly==5.11.0 pyarrow"
   ]
  },
  {
   "cell_type": "markdown",
   "metadata": {
    "pycharm": {
     "name": "#%% md\n"
    }
   },
   "source": [
    "## Datasets\n",
    "- [TLC Trip Record Data](https://www.nyc.gov/site/tlc/about/tlc-trip-record-data.page)\n",
    "- [NYC Taxi Zones](https://data.cityofnewyork.us/Transportation/NYC-Taxi-Zones/d3c5-ddgc)\n",
    "\n",
    "Download the taxi zone lookup table and the taxi zone geojson:"
   ]
  },
  {
   "cell_type": "code",
   "execution_count": null,
   "metadata": {
    "collapsed": false,
    "jupyter": {
     "outputs_hidden": false
    },
    "pycharm": {
     "name": "#%%\n"
    }
   },
   "outputs": [],
   "source": [
    "%%bash\n",
    "wget -q https://d37ci6vzurychx.cloudfront.net/misc/taxi+_zone_lookup.csv\n",
    "wget -q https://data.cityofnewyork.us/api/geospatial/d3c5-ddgc\\?method\\=export\\&format\\=GeoJSON -O taxi_zones.geojson"
   ]
  },
  {
   "cell_type": "markdown",
   "metadata": {
    "pycharm": {
     "name": "#%% md\n"
    }
   },
   "source": [
    "You can start with yellow taxi trip records of a month:"
   ]
  },
  {
   "cell_type": "code",
   "execution_count": null,
   "metadata": {
    "collapsed": false,
    "jupyter": {
     "outputs_hidden": false
    },
    "pycharm": {
     "name": "#%%\n"
    }
   },
   "outputs": [],
   "source": [
    "%%bash\n",
    "wget -q https://d37ci6vzurychx.cloudfront.net/trip-data/yellow_tripdata_2021-12.parquet"
   ]
  },
  {
   "cell_type": "markdown",
   "metadata": {
    "pycharm": {
     "name": "#%% md\n"
    }
   },
   "source": [
    "You can also use records of a year:"
   ]
  },
  {
   "cell_type": "code",
   "execution_count": null,
   "metadata": {
    "collapsed": false,
    "jupyter": {
     "outputs_hidden": false
    },
    "pycharm": {
     "name": "#%%\n"
    }
   },
   "outputs": [],
   "source": [
    "%%bash\n",
    "for i in {1..12}\n",
    "do\n",
    "    echo \"downloading taxi records of $i/2021\"\n",
    "    wget -q https://d37ci6vzurychx.cloudfront.net/trip-data/yellow_tripdata_2021-$(printf \"%02d\" $i).parquet\n",
    "done"
   ]
  },
  {
   "cell_type": "markdown",
   "metadata": {
    "pycharm": {
     "name": "#%% md\n"
    }
   },
   "source": [
    "## Initialization\n",
    "The first step is to initialize Xorbits:"
   ]
  },
  {
   "cell_type": "code",
   "execution_count": null,
   "metadata": {
    "pycharm": {
     "name": "#%%\n"
    }
   },
   "outputs": [],
   "source": [
    "import xorbits\n",
    "\n",
    "# Initialize Xorbits in the local environment.\n",
    "xorbits.init()"
   ]
  },
  {
   "cell_type": "markdown",
   "metadata": {
    "pycharm": {
     "name": "#%% md\n"
    }
   },
   "source": [
    "## Data loading\n",
    "The second step is to load the data into an Xorbits DataFrame. This can be done using the\n",
    "`read_parquet()` function, which allows us to specify the location of the parquet file and\n",
    "any additional options we want to use while reading the data.\n",
    "\n",
    "\n",
    "In the case of the NYC taxi dataset, here is an example of how we could do this using\n",
    "Xorbits:"
   ]
  },
  {
   "cell_type": "code",
   "execution_count": null,
   "metadata": {
    "collapsed": false,
    "jupyter": {
     "outputs_hidden": false
    },
    "pycharm": {
     "name": "#%%\n"
    }
   },
   "outputs": [],
   "source": [
    "import datetime\n",
    "import json\n",
    "import xorbits.pandas as pd\n",
    "\n",
    "trips = pd.read_parquet(\"yellow_tripdata_2021-*.parquet\")\n",
    "# Remove outliers\n",
    "trips = trips[(trips['tpep_pickup_datetime'] >= datetime.datetime(2021, 1, 1)) & (trips['tpep_pickup_datetime'] <= datetime.datetime(2021, 12, 31))]\n",
    "\n",
    "taxi_zones = pd.read_csv('taxi+_zone_lookup.csv')\n",
    "\n",
    "with open('taxi_zones.geojson') as fd:\n",
    "    geojson = json.load(fd)"
   ]
  },
  {
   "cell_type": "markdown",
   "metadata": {
    "pycharm": {
     "name": "#%% md\n"
    }
   },
   "source": [
    "Once we have the data loaded into a DataFrame, we might want to get a sense of the\n",
    "overall structure of the data by looking at the number of rows and columns, the data types\n",
    "of each column, and the first few rows of the data. We can do this using the shape, dtypes,\n",
    "and head() attributes, respectively:"
   ]
  },
  {
   "cell_type": "code",
   "execution_count": null,
   "metadata": {
    "collapsed": false,
    "jupyter": {
     "outputs_hidden": false
    },
    "pycharm": {
     "name": "#%%\n"
    }
   },
   "outputs": [],
   "source": [
    "trips.shape"
   ]
  },
  {
   "cell_type": "code",
   "execution_count": null,
   "outputs": [],
   "source": [
    "trips.dtypes"
   ],
   "metadata": {
    "collapsed": false,
    "pycharm": {
     "name": "#%%\n"
    }
   }
  },
  {
   "cell_type": "code",
   "execution_count": null,
   "outputs": [],
   "source": [
    "trips.head()"
   ],
   "metadata": {
    "collapsed": false,
    "pycharm": {
     "name": "#%%\n"
    }
   }
  },
  {
   "cell_type": "markdown",
   "metadata": {
    "pycharm": {
     "name": "#%% md\n"
    }
   },
   "source": [
    "We can also use the `describe()` method to get a summary of the statistical properties of\n",
    "each numerical column in the dataset."
   ]
  },
  {
   "cell_type": "code",
   "execution_count": null,
   "metadata": {
    "collapsed": false,
    "jupyter": {
     "outputs_hidden": false
    },
    "pycharm": {
     "name": "#%%\n"
    }
   },
   "outputs": [],
   "source": [
    "trips.describe()"
   ]
  },
  {
   "cell_type": "markdown",
   "metadata": {
    "pycharm": {
     "name": "#%% md\n"
    }
   },
   "source": [
    "## Time series analysis\n",
    "One way to analyze the NYC taxi dataset is to look at how the number of rides varies over time.\n",
    "We can do this by creating a new column in the DataFrame that represents the pick-up date of\n",
    "each ride, and then use the `groupby` method to group the data by month or year and compute the\n",
    "count of rides for each group:"
   ]
  },
  {
   "cell_type": "code",
   "execution_count": null,
   "metadata": {
    "collapsed": false,
    "jupyter": {
     "outputs_hidden": false
    },
    "pycharm": {
     "name": "#%%\n"
    }
   },
   "outputs": [],
   "source": [
    "trips['PU_date'] = trips['tpep_pickup_datetime'].dt.date\n",
    "count = trips.groupby('PU_date', as_index=False).agg(count=('VendorID', 'count'))\n",
    "count"
   ]
  },
  {
   "cell_type": "markdown",
   "metadata": {
    "pycharm": {
     "name": "#%% md\n"
    }
   },
   "source": [
    "We can then use a library like plotly to visualize the time series data:"
   ]
  },
  {
   "cell_type": "code",
   "execution_count": null,
   "metadata": {
    "collapsed": false,
    "jupyter": {
     "outputs_hidden": false
    },
    "pycharm": {
     "name": "#%%\n"
    }
   },
   "outputs": [],
   "source": [
    "import plotly.express as px\n",
    "\n",
    "b = px.bar(count.to_pandas(), x='PU_date', y='count')\n",
    "b.show()"
   ]
  },
  {
   "cell_type": "markdown",
   "metadata": {
    "pycharm": {
     "name": "#%% md\n"
    }
   },
   "source": [
    "## Spatial analysis\n",
    "Another way to analyze the NYC taxi dataset is to look at patterns in the spatial distribution of\n",
    "rides. Taking Manhattan as an example, we firstly filter the dataframe by pick-up location ID:"
   ]
  },
  {
   "cell_type": "code",
   "execution_count": null,
   "metadata": {
    "collapsed": false,
    "jupyter": {
     "outputs_hidden": false
    },
    "pycharm": {
     "name": "#%%\n"
    }
   },
   "outputs": [],
   "source": [
    "manhattan_zones = taxi_zones[taxi_zones['Borough'] == 'Manhattan']['LocationID']\n",
    "manhattan_trips = trips[trips['PULocationID'].isin(manhattan_zones)]\n",
    "manhattan_trips"
   ]
  },
  {
   "cell_type": "markdown",
   "metadata": {
    "pycharm": {
     "name": "#%% md\n"
    }
   },
   "source": [
    "Then use the `groupby` method to group the data by pick-up location ID and compute the count of\n",
    "rides for each group:"
   ]
  },
  {
   "cell_type": "code",
   "execution_count": null,
   "metadata": {
    "collapsed": false,
    "jupyter": {
     "outputs_hidden": false
    },
    "pycharm": {
     "name": "#%%\n"
    }
   },
   "outputs": [],
   "source": [
    "gb_pu_location = manhattan_trips.groupby(['PULocationID'], as_index=False).agg(count=('VendorID', 'count')).to_pandas()"
   ]
  },
  {
   "cell_type": "markdown",
   "metadata": {
    "pycharm": {
     "name": "#%% md\n"
    }
   },
   "source": [
    "We can then use a library like plotly to visualize the spatial distribution of rides:"
   ]
  },
  {
   "cell_type": "code",
   "execution_count": null,
   "metadata": {
    "collapsed": false,
    "jupyter": {
     "outputs_hidden": false
    },
    "pycharm": {
     "name": "#%%\n"
    }
   },
   "outputs": [],
   "source": [
    "m = px.choropleth(\n",
    "    gb_pu_location,\n",
    "    geojson=geojson,\n",
    "    locations='PULocationID',\n",
    "    featureidkey='properties.location_id',\n",
    "    color='count',\n",
    "    color_continuous_scale=\"Viridis\",\n",
    "    range_color=(0, gb_pu_location['count'].max()),\n",
    "    labels={'count':'trips count'}\n",
    ")\n",
    "m.update_geos(fitbounds=\"locations\", visible=False)\n",
    "m.update_layout(margin={\"r\":0,\"t\":0,\"l\":0,\"b\":0})\n",
    "m.show()"
   ]
  }
 ],
 "metadata": {
  "kernelspec": {
   "display_name": "Python 3 (ipykernel)",
   "language": "python",
   "name": "python3"
  },
  "language_info": {
   "codemirror_mode": {
    "name": "ipython",
    "version": 3
   },
   "file_extension": ".py",
   "mimetype": "text/x-python",
   "name": "python",
   "nbconvert_exporter": "python",
   "pygments_lexer": "ipython3",
   "version": "3.10.4"
  }
 },
 "nbformat": 4,
 "nbformat_minor": 4
}