{
 "cells": [
  {
   "cell_type": "markdown",
   "metadata": {
    "pycharm": {
     "name": "#%% md\n"
    }
   },
   "source": [
    "# Exploratory analysis using Xorbits over NYC taxi dataset\n",
    "Xorbits is a powerful tool for exploring and analyzing large datasets. One of the classic\n",
    "datasets for demonstrating the capabilities of Xorbits is the NYC taxi dataset, which\n",
    "contains records of taxi rides in the city from 2009 to 2022. In this blog, we will\n",
    "explore how to use Xorbits to do some initial exploration of the NYC taxi dataset and get\n",
    "a sense of what kind of insights we might be able to gain from the data.\n",
    "\n",
    "## Software versions\n",
    "- Xorbits==0.1.0\n",
    "- plotly==5.11.0"
   ]
  },
  {
   "cell_type": "code",
   "execution_count": null,
   "metadata": {
    "pycharm": {
     "name": "#%%\n"
    }
   },
   "outputs": [],
   "source": [
    "# Install dependencies\n",
    "%pip install xorbits==0.1.2 plotly==5.11.0 pyarrow"
   ]
  },
  {
   "cell_type": "markdown",
   "source": [
    "## Datasets\n",
    "- [TLC Trip Record Data](https://www.nyc.gov/site/tlc/about/tlc-trip-record-data.page)\n",
    "- [NYC Taxi Zones](https://data.cityofnewyork.us/Transportation/NYC-Taxi-Zones/d3c5-ddgc)\n",
    "\n",
    "Download the taxi zone geojson:"
   ],
   "metadata": {
    "collapsed": false,
    "pycharm": {
     "name": "#%% md\n"
    }
   }
  },
  {
   "cell_type": "code",
   "execution_count": null,
   "outputs": [],
   "source": [
    "%%bash\n",
    "wget https://data.cityofnewyork.us/api/geospatial/d3c5-ddgc\\?method\\=export\\&format\\=GeoJSON -O taxi_zones.geojson"
   ],
   "metadata": {
    "collapsed": false,
    "pycharm": {
     "name": "#%%\n"
    }
   }
  },
  {
   "cell_type": "markdown",
   "source": [
    "You can start with yellow taxi trip records of a month:"
   ],
   "metadata": {
    "collapsed": false,
    "pycharm": {
     "name": "#%% md\n"
    }
   }
  },
  {
   "cell_type": "code",
   "execution_count": null,
   "outputs": [],
   "source": [
    "%%bash\n",
    "wget https://d37ci6vzurychx.cloudfront.net/trip-data/yellow_tripdata_2021-12.parquet"
   ],
   "metadata": {
    "collapsed": false,
    "pycharm": {
     "name": "#%%\n"
    }
   }
  },
  {
   "cell_type": "markdown",
   "source": [
    "You can also use records of a year:"
   ],
   "metadata": {
    "collapsed": false,
    "pycharm": {
     "name": "#%% md\n"
    }
   }
  },
  {
   "cell_type": "code",
   "execution_count": null,
   "outputs": [],
   "source": [
    "%%bash\n",
    "for i in {1..12}\n",
    "do\n",
    "    wget https://d37ci6vzurychx.cloudfront.net/trip-data/yellow_tripdata_2021-$(printf \"%02d\" $i).parquet\n",
    "done"
   ],
   "metadata": {
    "collapsed": false,
    "pycharm": {
     "name": "#%%\n"
    }
   }
  },
  {
   "cell_type": "markdown",
   "source": [
    "## Initialization\n",
    "The first step is to initialize Xorbits:"
   ],
   "metadata": {
    "collapsed": false,
    "pycharm": {
     "name": "#%% md\n"
    }
   }
  },
  {
   "cell_type": "code",
   "execution_count": null,
   "outputs": [],
   "source": [
    "import xorbits\n",
    "\n",
    "# Initialize Xorbits in the local environment.\n",
    "xorbits.init()"
   ],
   "metadata": {
    "collapsed": false,
    "pycharm": {
     "name": "#%%\n"
    }
   }
  },
  {
   "cell_type": "markdown",
   "source": [
    "## Data loading\n",
    "The second step is to load the data into an Xorbits DataFrame. This can be done using the\n",
    "`read_parquet()` function, which allows us to specify the location of the parquet file and\n",
    "any additional options we want to use while reading the data.\n",
    "\n",
    "\n",
    "In the case of the NYC taxi dataset, here is an example of how we could do this using\n",
    "Xorbits:"
   ],
   "metadata": {
    "collapsed": false,
    "pycharm": {
     "name": "#%% md\n"
    }
   }
  },
  {
   "cell_type": "code",
   "execution_count": null,
   "outputs": [],
   "source": [
    "import datetime\n",
    "import xorbits.pandas as pd\n",
    "\n",
    "trips = pd.read_parquet(\n",
    "    'yellow_tripdata_2021',\n",
    "    columns=[\n",
    "        'tpep_pickup_datetime',\n",
    "        'tpep_dropoff_datetime',\n",
    "        'trip_distance',\n",
    "        'PULocationID',\n",
    "        'DOLocationID',\n",
    "    ])\n",
    "# Remove outliers.\n",
    "trips = trips[(trips['tpep_pickup_datetime'] >= datetime.datetime(2021, 1, 1)) & (trips['tpep_pickup_datetime'] <= datetime.datetime(2021, 12, 31))]\n",
    "trips"
   ],
   "metadata": {
    "collapsed": false,
    "pycharm": {
     "name": "#%%\n"
    }
   }
  },
  {
   "cell_type": "code",
   "execution_count": null,
   "outputs": [],
   "source": [
    "taxi_zones = pd.read_csv('taxi+_zone_lookup.csv', usecols=['LocationID', 'Zone'])\n",
    "taxi_zones.set_index(['LocationID'], inplace=True)\n",
    "taxi_zones"
   ],
   "metadata": {
    "collapsed": false,
    "pycharm": {
     "name": "#%%\n"
    }
   }
  },
  {
   "cell_type": "code",
   "execution_count": null,
   "outputs": [],
   "source": [
    "trips.merge(taxi_zones, left_on='PULocationID', right_index=True)"
   ],
   "metadata": {
    "collapsed": false,
    "pycharm": {
     "name": "#%%\n"
    }
   }
  },
  {
   "cell_type": "code",
   "execution_count": null,
   "outputs": [],
   "source": [
    "import json\n",
    "with open('taxi_zones.geojson') as fd:\n",
    "    geojson = json.load(fd)"
   ],
   "metadata": {
    "collapsed": false,
    "pycharm": {
     "name": "#%%\n"
    }
   }
  },
  {
   "cell_type": "markdown",
   "source": [
    "Once we have the data loaded into a DataFrame, we might want to get a sense of the\n",
    "overall structure of the data by looking at the number of rows and columns, the data types\n",
    "of each column, and the first few rows of the data. We can do this using the shape, dtypes,\n",
    "and head() attributes, respectively:"
   ],
   "metadata": {
    "collapsed": false,
    "pycharm": {
     "name": "#%% md\n"
    }
   }
  },
  {
   "cell_type": "code",
   "execution_count": null,
   "outputs": [],
   "source": [
    "trips.shape"
   ],
   "metadata": {
    "collapsed": false,
    "pycharm": {
     "name": "#%%\n"
    }
   }
  },
  {
   "cell_type": "code",
   "execution_count": null,
   "outputs": [],
   "source": [
    "trips.dtypes"
   ],
   "metadata": {
    "collapsed": false,
    "pycharm": {
     "name": "#%%\n"
    }
   }
  },
  {
   "cell_type": "code",
   "execution_count": null,
   "outputs": [],
   "source": [
    "trips.head()"
   ],
   "metadata": {
    "collapsed": false,
    "pycharm": {
     "name": "#%%\n"
    }
   }
  },
  {
   "cell_type": "markdown",
   "source": [
    "## Temporal Analysis\n",
    "One way to analyze the NYC taxi dataset is to look at how the number of rides varies over\n",
    "time. A particularly intriguing analysis involves finding out the number of rides per hour\n",
    "of each week day. We can create two additional columns in the DataFrame representing the\n",
    "pickup hour and day of the week. We can then group the data by day of the week and hour\n",
    "using the `groupby` method and calculate the number of rides for each group."
   ],
   "metadata": {
    "collapsed": false,
    "pycharm": {
     "name": "#%% md\n"
    }
   }
  },
  {
   "cell_type": "code",
   "execution_count": null,
   "outputs": [],
   "source": [
    "trips['PU_dayofweek'] = trips['tpep_pickup_datetime'].dt.dayofweek\n",
    "trips['PU_hour'] = trips['tpep_pickup_datetime'].dt.hour\n",
    "gb_time = trips.groupby(by=['PU_dayofweek', 'PU_hour'], as_index=False).agg(count=('PU_dayofweek', 'count'))\n",
    "gb_time"
   ],
   "metadata": {
    "collapsed": false,
    "pycharm": {
     "name": "#%%\n"
    }
   }
  },
  {
   "cell_type": "markdown",
   "source": [
    "We can then use a library like plotly to visualize the time series data. The graph below displays\n",
    "the number of rides per hour. From the graph, it is apparent that people are more inclined to\n",
    "travel in the afternoon. Additionally, on weekends, people generally tend to stay out late."
   ],
   "metadata": {
    "collapsed": false,
    "pycharm": {
     "name": "#%% md\n"
    }
   }
  },
  {
   "cell_type": "code",
   "execution_count": null,
   "outputs": [],
   "source": [
    "import plotly.express as px\n",
    "\n",
    "b = px.bar(\n",
    "    gb_time.to_pandas(),\n",
    "    x='PU_hour',\n",
    "    y='count',\n",
    "    color='PU_dayofweek',\n",
    "    color_continuous_scale='sunset_r',\n",
    ")\n",
    "b.show()"
   ],
   "metadata": {
    "collapsed": false,
    "pycharm": {
     "name": "#%%\n"
    }
   }
  },
  {
   "cell_type": "markdown",
   "source": [
    "The graph below displays the number of rides for each day of the week."
   ],
   "metadata": {
    "collapsed": false,
    "pycharm": {
     "name": "#%% md\n"
    }
   }
  },
  {
   "cell_type": "code",
   "execution_count": null,
   "outputs": [],
   "source": [
    "b = px.bar(\n",
    "    gb_time.to_pandas(),\n",
    "    x='PU_dayofweek',\n",
    "    y='count',\n",
    "    color='PU_hour',\n",
    "    color_continuous_scale='sunset_r',\n",
    ")\n",
    "b.show()"
   ],
   "metadata": {
    "collapsed": false,
    "pycharm": {
     "name": "#%%\n"
    }
   }
  },
  {
   "cell_type": "markdown",
   "metadata": {
    "pycharm": {
     "name": "#%% md\n"
    }
   },
   "source": [
    "## Spatial Analysis\n",
    "Another way to analyze the NYC taxi dataset is to look at patterns in the spatial distribution of\n",
    "rides. We can use the `groupby` method to group the data by pick-up and drop-off location ID and\n",
    "compute the count of rides for each group:"
   ]
  },
  {
   "cell_type": "code",
   "execution_count": null,
   "metadata": {
    "pycharm": {
     "name": "#%%\n"
    }
   },
   "outputs": [],
   "source": [
    "gb_pu_location = trips.groupby(['PULocationID'], as_index=False).agg(count=('PULocationID', 'count'))\n",
    "gb_pu_location"
   ]
  },
  {
   "cell_type": "markdown",
   "metadata": {
    "pycharm": {
     "name": "#%% md\n"
    }
   },
   "source": [
    "Then visualize the spatial distribution of pick-up locations:"
   ]
  },
  {
   "cell_type": "code",
   "execution_count": null,
   "metadata": {
    "pycharm": {
     "name": "#%%\n"
    }
   },
   "outputs": [],
   "source": [
    "m = px.choropleth(\n",
    "    gb_pu_location.to_pandas(),\n",
    "    geojson=geojson,\n",
    "    locations='PULocationID',\n",
    "    featureidkey='properties.location_id',\n",
    "    color='count',\n",
    "    color_continuous_scale='sunset_r',\n",
    "    labels={'count':'trips count'}\n",
    ")\n",
    "m.update_geos(fitbounds='locations', visible=False)\n",
    "m.show()"
   ]
  },
  {
   "cell_type": "markdown",
   "source": [
    "We can also group the data by drop-off location ID:"
   ],
   "metadata": {
    "collapsed": false,
    "pycharm": {
     "name": "#%% md\n"
    }
   }
  },
  {
   "cell_type": "code",
   "execution_count": null,
   "outputs": [],
   "source": [
    "gb_do_location = trips.groupby(['DOLocationID'], as_index=False).agg(count=('DOLocationID', 'count'))\n",
    "gb_do_location"
   ],
   "metadata": {
    "collapsed": false,
    "pycharm": {
     "name": "#%%\n"
    }
   }
  },
  {
   "cell_type": "markdown",
   "source": [
    "Then visualize the spatial distribution of drop-off locations:"
   ],
   "metadata": {
    "collapsed": false,
    "pycharm": {
     "name": "#%% md\n"
    }
   }
  },
  {
   "cell_type": "code",
   "execution_count": null,
   "outputs": [],
   "source": [
    "m = px.choropleth(\n",
    "    gb_do_location.to_pandas(),\n",
    "    geojson=geojson,\n",
    "    locations='DOLocationID',\n",
    "    featureidkey='properties.location_id',\n",
    "    color='count',\n",
    "    color_continuous_scale='sunset_r',\n",
    "    labels={'count':'trips count'}\n",
    ")\n",
    "m.update_geos(fitbounds='locations', visible=False)\n",
    "m.show()"
   ],
   "metadata": {
    "collapsed": false,
    "pycharm": {
     "name": "#%%\n"
    }
   }
  },
  {
   "cell_type": "markdown",
   "source": [
    "Another area that we can explore is the traffic between taxi zones:"
   ],
   "metadata": {
    "collapsed": false,
    "pycharm": {
     "name": "#%% md\n"
    }
   }
  },
  {
   "cell_type": "code",
   "execution_count": null,
   "outputs": [],
   "source": [
    "gb_pu_do_location = trips.groupby(['PULocationID', 'DOLocationID'], as_index=False).agg(count=('PULocationID', 'count'))\n",
    "\n",
    "# Add zone names.\n",
    "gb_pu_do_location = gb_pu_do_location.merge(taxi_zones, left_on='PULocationID', right_index=True)\n",
    "gb_pu_do_location.rename(columns={'Zone': 'PUZone'}, inplace=True)\n",
    "gb_pu_do_location = gb_pu_do_location.merge(taxi_zones, left_on='DOLocationID', right_index=True)\n",
    "gb_pu_do_location.rename(columns={'Zone': 'DOZone'}, inplace=True)\n",
    "\n",
    "gb_pu_do_location.sort_values(['count'], inplace=True, ascending=False)\n",
    "gb_pu_do_location"
   ],
   "metadata": {
    "collapsed": false,
    "pycharm": {
     "name": "#%%\n"
    }
   }
  }
 ],
 "metadata": {
  "kernelspec": {
   "display_name": "Python 3 (ipykernel)",
   "language": "python",
   "name": "python3"
  },
  "language_info": {
   "codemirror_mode": {
    "name": "ipython",
    "version": 3
   },
   "file_extension": ".py",
   "mimetype": "text/x-python",
   "name": "python",
   "nbconvert_exporter": "python",
   "pygments_lexer": "ipython3",
   "version": "3.10.4"
  }
 },
 "nbformat": 4,
 "nbformat_minor": 4
}